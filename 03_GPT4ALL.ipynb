{
  "nbformat": 4,
  "nbformat_minor": 0,
  "metadata": {
    "colab": {
      "provenance": []
    },
    "kernelspec": {
      "name": "python3",
      "display_name": "Python 3"
    },
    "accelerator": "GPU"
  },
  "cells": [
    {
      "cell_type": "markdown",
      "source": [
        "# Hello GPT4ALL\n",
        "\n",
        "\n",
        "<a href=\"https://colab.research.google.com/drive/1AONl_3F8C6fB2NKaQsuAHio0sdjulIRk?usp=sharing\" target=\"_parent\"><img src=\"https://colab.research.google.com/assets/colab-badge.svg\" alt=\"Open In Colab\"/></a>\n",
        "\n",
        "\n",
        "\n",
        "By [Ibrahim Sobh](https://www.linkedin.com/in/ibrahim-sobh-phd-8681757/)"
      ],
      "metadata": {
        "id": "cRGFsVRICNgL"
      }
    },
    {
      "cell_type": "markdown",
      "source": [
        "## Install"
      ],
      "metadata": {
        "id": "jNZy8wMfCQ8M"
      }
    },
    {
      "cell_type": "code",
      "metadata": {
        "colab": {
          "base_uri": "https://localhost:8080/"
        },
        "id": "-U6egfDiEdfP",
        "outputId": "68aebf29-4800-43d3-8e53-525a40e27845"
      },
      "source": [
        "!pip install gpt4all"
      ],
      "execution_count": null,
      "outputs": [
        {
          "output_type": "stream",
          "name": "stdout",
          "text": [
            "Collecting gpt4all\n",
            "  Downloading gpt4all-1.0.1-py3-none-manylinux1_x86_64.whl (3.1 MB)\n",
            "\u001b[2K     \u001b[90m━━━━━━━━━━━━━━━━━━━━━━━━━━━━━━━━━━━━━━━━\u001b[0m \u001b[32m3.1/3.1 MB\u001b[0m \u001b[31m36.3 MB/s\u001b[0m eta \u001b[36m0:00:00\u001b[0m\n",
            "\u001b[?25hRequirement already satisfied: requests in /usr/local/lib/python3.10/dist-packages (from gpt4all) (2.27.1)\n",
            "Requirement already satisfied: tqdm in /usr/local/lib/python3.10/dist-packages (from gpt4all) (4.65.0)\n",
            "Requirement already satisfied: urllib3<1.27,>=1.21.1 in /usr/local/lib/python3.10/dist-packages (from requests->gpt4all) (1.26.16)\n",
            "Requirement already satisfied: certifi>=2017.4.17 in /usr/local/lib/python3.10/dist-packages (from requests->gpt4all) (2023.5.7)\n",
            "Requirement already satisfied: charset-normalizer~=2.0.0 in /usr/local/lib/python3.10/dist-packages (from requests->gpt4all) (2.0.12)\n",
            "Requirement already satisfied: idna<4,>=2.5 in /usr/local/lib/python3.10/dist-packages (from requests->gpt4all) (3.4)\n",
            "Installing collected packages: gpt4all\n",
            "Successfully installed gpt4all-1.0.1\n"
          ]
        }
      ]
    },
    {
      "cell_type": "markdown",
      "source": [
        "## Import"
      ],
      "metadata": {
        "id": "17a7aYKQCT5O"
      }
    },
    {
      "cell_type": "code",
      "metadata": {
        "id": "tLvsgdAqEsqv"
      },
      "source": [
        "import gpt4all"
      ],
      "execution_count": null,
      "outputs": []
    },
    {
      "cell_type": "markdown",
      "source": [
        "## Load a pre-trained model\n",
        "\n",
        "https://raw.githubusercontent.com/nomic-ai/gpt4all/main/gpt4all-chat/metadata/models.json"
      ],
      "metadata": {
        "id": "wOHKeMjuCXva"
      }
    },
    {
      "cell_type": "code",
      "metadata": {
        "colab": {
          "base_uri": "https://localhost:8080/"
        },
        "id": "LwhSoCcsEsto",
        "outputId": "691391fc-6b6e-4807-86ca-4953119c1cdb"
      },
      "source": [
        "gptj = gpt4all.GPT4All(\"ggml-gpt4all-j-v1.3-groovy.bin\") #3.79G"
      ],
      "execution_count": null,
      "outputs": [
        {
          "output_type": "stream",
          "name": "stderr",
          "text": [
            "100%|██████████| 3.79G/3.79G [01:44<00:00, 36.3MiB/s]\n"
          ]
        },
        {
          "output_type": "stream",
          "name": "stdout",
          "text": [
            "Model downloaded at:  /root/.cache/gpt4all/ggml-gpt4all-j-v1.3-groovy.bin\n"
          ]
        }
      ]
    },
    {
      "cell_type": "markdown",
      "source": [
        "## Generate text\n",
        "\n",
        "\n",
        "Local LLMs can be optimized for chat conversions by reusing previous computational history.\n",
        "\n",
        "Use the GPT4All chat_session context manager to hold chat conversations with the model."
      ],
      "metadata": {
        "id": "ghW00rKvCdRO"
      }
    },
    {
      "cell_type": "code",
      "metadata": {
        "colab": {
          "base_uri": "https://localhost:8080/"
        },
        "id": "j4l8sfkQEsxh",
        "outputId": "1495274b-bed0-4a70-e19c-c3c5117b734b"
      },
      "source": [
        "with gptj.chat_session():\n",
        "    response = gptj.generate(prompt='hello', top_k=1)\n",
        "    response = gptj.generate(prompt='write me a short poem', top_k=1)\n",
        "    response = gptj.generate(prompt='thank you', top_k=1)\n",
        "    print(gptj.current_chat_session)"
      ],
      "execution_count": null,
      "outputs": [
        {
          "output_type": "stream",
          "name": "stdout",
          "text": [
            "[{'role': 'user', 'content': 'hello'}, {'role': 'assistant', 'content': 'Hello! How can I assist you today?'}, {'role': 'user', 'content': 'write me a short poem'}, {'role': 'assistant', 'content': \"Sure, here's one for you. May your day be filled with love and joy.\"}, {'role': 'user', 'content': 'thank you'}, {'role': 'assistant', 'content': \"You're welcome! Is there anything else I could help you with?\"}]\n"
          ]
        }
      ]
    },
    {
      "cell_type": "code",
      "source": [
        "with gptj.chat_session():\n",
        "    response = gptj.generate(prompt='hello', top_k=1)\n",
        "    response = gptj.generate(prompt='My name is Ibrahim, what is your name?', top_k=1)\n",
        "    response = gptj.generate(prompt='What is the capital of Egypt?', top_k=1)\n",
        "    response = gptj.generate(prompt='What is my name?', top_k=1)\n",
        "    print(gptj.current_chat_session)"
      ],
      "metadata": {
        "colab": {
          "base_uri": "https://localhost:8080/"
        },
        "id": "yFGqffAgcnBG",
        "outputId": "f3faf6f4-64d3-42c6-b834-452a2117dda0"
      },
      "execution_count": null,
      "outputs": [
        {
          "output_type": "stream",
          "name": "stdout",
          "text": [
            "[{'role': 'user', 'content': 'hello'}, {'role': 'assistant', 'content': 'Hello! How can I assist you today?'}, {'role': 'user', 'content': 'My name is Ibrahim, what is your name?'}, {'role': 'assistant', 'content': 'I am an artificial intelligence assistant. My name is AI-Assistant.'}, {'role': 'user', 'content': 'What is the capital of Egypt?'}, {'role': 'assistant', 'content': 'The capital city of Egypt is Cairo.'}, {'role': 'user', 'content': 'What is my name?'}, {'role': 'assistant', 'content': 'Your name is Ibrahim, what a beautiful name!'}]\n"
          ]
        }
      ]
    },
    {
      "cell_type": "code",
      "source": [],
      "metadata": {
        "id": "V2DpQpQHen-C"
      },
      "execution_count": null,
      "outputs": []
    }
  ]
}