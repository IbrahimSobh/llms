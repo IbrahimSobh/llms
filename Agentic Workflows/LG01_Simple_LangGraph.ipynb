{
  "nbformat": 4,
  "nbformat_minor": 0,
  "metadata": {
    "colab": {
      "provenance": [],
      "toc_visible": true
    },
    "kernelspec": {
      "name": "python3",
      "display_name": "Python 3"
    },
    "language_info": {
      "name": "python"
    }
  },
  "cells": [
    {
      "cell_type": "markdown",
      "source": [
        "# LangGrpah, minimal code\n",
        "\n",
        "🤖[LangGraph](https://python.langchain.com/docs/langgraph) is a library for building stateful, multi-actor applications with LLMs, built on top of (and intended to be used with) LangChain.\n",
        "\n",
        "This code is the first step of using LangGraph to bulid generic and simple graphs even without LLMs.\n",
        "\n",
        "By: [Ibrahim Sobh](https://www.linkedin.com/in/ibrahim-sobh-phd-8681757/)\n",
        "\n"
      ],
      "metadata": {
        "id": "-1OCoxNK5UrC"
      }
    },
    {
      "cell_type": "markdown",
      "source": [
        "## Install"
      ],
      "metadata": {
        "id": "zQthzzH2nhAh"
      }
    },
    {
      "cell_type": "code",
      "execution_count": null,
      "metadata": {
        "colab": {
          "base_uri": "https://localhost:8080/"
        },
        "id": "7xPBHmeviYrG",
        "outputId": "c9a9adf6-2eb9-4653-ed04-9805b2e243f8"
      },
      "outputs": [
        {
          "output_type": "stream",
          "name": "stdout",
          "text": [
            "\u001b[2K     \u001b[90m━━━━━━━━━━━━━━━━━━━━━━━━━━━━━━━━━━━━━━━━\u001b[0m \u001b[32m52.4/52.4 kB\u001b[0m \u001b[31m1.2 MB/s\u001b[0m eta \u001b[36m0:00:00\u001b[0m\n",
            "\u001b[2K     \u001b[90m━━━━━━━━━━━━━━━━━━━━━━━━━━━━━━━━━━━━━━━━\u001b[0m \u001b[32m271.6/271.6 kB\u001b[0m \u001b[31m6.6 MB/s\u001b[0m eta \u001b[36m0:00:00\u001b[0m\n",
            "\u001b[2K     \u001b[90m━━━━━━━━━━━━━━━━━━━━━━━━━━━━━━━━━━━━━━━━\u001b[0m \u001b[32m86.6/86.6 kB\u001b[0m \u001b[31m5.8 MB/s\u001b[0m eta \u001b[36m0:00:00\u001b[0m\n",
            "\u001b[2K     \u001b[90m━━━━━━━━━━━━━━━━━━━━━━━━━━━━━━━━━━━━━━━━\u001b[0m \u001b[32m53.0/53.0 kB\u001b[0m \u001b[31m3.6 MB/s\u001b[0m eta \u001b[36m0:00:00\u001b[0m\n",
            "\u001b[2K     \u001b[90m━━━━━━━━━━━━━━━━━━━━━━━━━━━━━━━━━━━━━━━━\u001b[0m \u001b[32m138.5/138.5 kB\u001b[0m \u001b[31m2.1 MB/s\u001b[0m eta \u001b[36m0:00:00\u001b[0m\n",
            "\u001b[?25h"
          ]
        }
      ],
      "source": [
        "%pip install -U --quiet  langgraph"
      ]
    },
    {
      "cell_type": "code",
      "source": [
        "import random\n",
        "import string"
      ],
      "metadata": {
        "id": "H0knrCmOcDwJ"
      },
      "execution_count": null,
      "outputs": []
    },
    {
      "cell_type": "code",
      "source": [
        "from typing import Dict, TypedDict\n",
        "from langchain_core.messages import BaseMessage\n",
        "\n",
        "\n",
        "class GraphState(TypedDict):\n",
        "    \"\"\"\n",
        "    Represents the state of our graph.\n",
        "\n",
        "    Attributes:\n",
        "        keys: A dictionary where each key is a string.\n",
        "    \"\"\"\n",
        "\n",
        "    keys: Dict[str, any]"
      ],
      "metadata": {
        "id": "ptrZN7RJk6Sp"
      },
      "execution_count": null,
      "outputs": []
    },
    {
      "cell_type": "markdown",
      "source": [
        "## Guess the number, if fail, try again\n",
        "\n"
      ],
      "metadata": {
        "id": "KuIFc0W95QFz"
      }
    },
    {
      "cell_type": "code",
      "source": [
        "def generate_number(state):\n",
        "    \"\"\"\n",
        "    Generate a random number between 1 and 10\n",
        "\n",
        "    Args:\n",
        "        state (dict): The current graph state\n",
        "\n",
        "    Returns:\n",
        "        state (dict): New key added to state, documents, that contains retrieved documents\n",
        "    \"\"\"\n",
        "\n",
        "    ## State\n",
        "    state_dict = state[\"keys\"]\n",
        "    iter = state_dict[\"iterations\"]\n",
        "\n",
        "    generated_solution = random.randint(0, 10)\n",
        "    iter = iter+1\n",
        "    return {\"keys\": {\"generation\": generated_solution, \"iterations\":iter}}"
      ],
      "metadata": {
        "id": "NBCb1LhDigA8"
      },
      "execution_count": null,
      "outputs": []
    },
    {
      "cell_type": "code",
      "source": [
        "def check_number(state):\n",
        "    \"\"\"\n",
        "    Check code block execution\n",
        "\n",
        "    Args:\n",
        "        state (dict): The current graph state\n",
        "\n",
        "    Returns:\n",
        "        state (dict): New key added to state, error\n",
        "    \"\"\"\n",
        "\n",
        "    ## State\n",
        "    state_dict = state[\"keys\"]\n",
        "    generated_solution = state_dict[\"generation\"]\n",
        "    iter = state_dict[\"iterations\"]\n",
        "\n",
        "    if generated_solution != 7:  # my magic number\n",
        "      error = \"FAIL\"\n",
        "    else:\n",
        "      error = \"None\"\n",
        "\n",
        "    return {\"keys\": {\"generation\": generated_solution,\n",
        "                     \"error\": error,\n",
        "                     \"iterations\":iter}}"
      ],
      "metadata": {
        "id": "bMo0r9wQcU9i"
      },
      "execution_count": null,
      "outputs": []
    },
    {
      "cell_type": "code",
      "source": [
        "def decide_to_finish(state):\n",
        "    \"\"\"\n",
        "    Determines whether to finish or re-try\n",
        "\n",
        "    Args:\n",
        "        state (dict): The current graph state\n",
        "\n",
        "    Returns:\n",
        "        str: Next node to call\n",
        "    \"\"\"\n",
        "    state_dict = state[\"keys\"]\n",
        "    generated_solution = state_dict[\"generation\"]\n",
        "    error = state_dict[\"error\"]\n",
        "    iter = state_dict[\"iterations\"]\n",
        "\n",
        "    print(state)\n",
        "    if error == \"None\":\n",
        "        return \"end\"\n",
        "    else:\n",
        "        return \"generate\""
      ],
      "metadata": {
        "id": "iUkc7oXHihED"
      },
      "execution_count": null,
      "outputs": []
    },
    {
      "cell_type": "code",
      "source": [
        "from langgraph.graph import END, StateGraph\n",
        "\n",
        "workflow = StateGraph(GraphState)\n",
        "\n",
        "# Define the nodes\n",
        "workflow.add_node(\"generate_number\", generate_number)  # generation a number\n",
        "workflow.add_node(\"check_number\", check_number)  # check number\n",
        "\n",
        "# Build graph\n",
        "workflow.set_entry_point(\"generate_number\")\n",
        "workflow.add_edge(\"generate_number\", \"check_number\")\n",
        "workflow.add_conditional_edges(\n",
        "    \"check_number\",\n",
        "    decide_to_finish,\n",
        "    {\n",
        "        \"end\": END,\n",
        "        \"generate\": \"generate_number\",\n",
        "    },\n",
        ")\n",
        "\n",
        "# Compile\n",
        "app = workflow.compile()"
      ],
      "metadata": {
        "id": "CbX0tTrjigDx"
      },
      "execution_count": null,
      "outputs": []
    },
    {
      "cell_type": "code",
      "source": [
        "config = {\"recursion_limit\": 200}\n",
        "fina_state = app.invoke({\"keys\":{\"iterations\":0}},config=config)"
      ],
      "metadata": {
        "id": "2E_b1Q-vigG5",
        "colab": {
          "base_uri": "https://localhost:8080/"
        },
        "outputId": "bd621cc2-d385-4f71-8585-bfc626f24c12"
      },
      "execution_count": null,
      "outputs": [
        {
          "output_type": "stream",
          "name": "stdout",
          "text": [
            "{'keys': {'generation': 9, 'error': 'FAIL', 'iterations': 1}}\n",
            "{'keys': {'generation': 1, 'error': 'FAIL', 'iterations': 2}}\n",
            "{'keys': {'generation': 2, 'error': 'FAIL', 'iterations': 3}}\n",
            "{'keys': {'generation': 3, 'error': 'FAIL', 'iterations': 4}}\n",
            "{'keys': {'generation': 10, 'error': 'FAIL', 'iterations': 5}}\n",
            "{'keys': {'generation': 8, 'error': 'FAIL', 'iterations': 6}}\n",
            "{'keys': {'generation': 7, 'error': 'None', 'iterations': 7}}\n"
          ]
        }
      ]
    },
    {
      "cell_type": "markdown",
      "source": [
        "## Dynamic Graph\n",
        "\n",
        "Try to guess a number or char, if you fail try again."
      ],
      "metadata": {
        "id": "eRn61uMioTpo"
      }
    },
    {
      "cell_type": "code",
      "source": [
        "def generate_char(state):\n",
        "    \"\"\"\n",
        "    Generate a random number between 1 and 100\n",
        "\n",
        "    Args:\n",
        "        state (dict): The current graph state\n",
        "\n",
        "    Returns:\n",
        "        state (dict): New key added to state, documents, that contains retrieved documents\n",
        "    \"\"\"\n",
        "\n",
        "    ## State\n",
        "    state_dict = state[\"keys\"]\n",
        "    iter = state_dict[\"iterations\"]\n",
        "\n",
        "    generated_solution = random.choice(string.ascii_letters)\n",
        "    iter = iter+1\n",
        "    return {\"keys\": {\"generation\": generated_solution, \"iterations\":iter}}"
      ],
      "metadata": {
        "id": "JbhGZ6wsp2GY"
      },
      "execution_count": null,
      "outputs": []
    },
    {
      "cell_type": "code",
      "source": [
        "def check_char(state):\n",
        "    \"\"\"\n",
        "    Check code block execution\n",
        "\n",
        "    Args:\n",
        "        state (dict): The current graph state\n",
        "\n",
        "    Returns:\n",
        "        state (dict): New key added to state, error\n",
        "    \"\"\"\n",
        "\n",
        "    ## State\n",
        "    state_dict = state[\"keys\"]\n",
        "    generated_solution = state_dict[\"generation\"]\n",
        "    iter = state_dict[\"iterations\"]\n",
        "\n",
        "    if generated_solution in \"IBRAHIM SOBH ibrahim sobh\":  # my magic char\n",
        "      error = \"None\"\n",
        "    else:\n",
        "      error = \"FAIL\"\n",
        "\n",
        "    return {\"keys\": {\"generation\": generated_solution,\n",
        "                     \"error\": error,\n",
        "                     \"iterations\":iter}}"
      ],
      "metadata": {
        "id": "RltorGVCoZZc"
      },
      "execution_count": null,
      "outputs": []
    },
    {
      "cell_type": "code",
      "source": [
        "workflow = StateGraph(GraphState)\n",
        "\n",
        "# Configurable Graph\n",
        "# Selec the typr of generation: char or number\n",
        "my_configuration = \"char\"\n",
        "my_configuration = \"number\"\n",
        "\n",
        "if my_configuration == \"number\": # gusse the number\n",
        "  # add nodes\n",
        "  workflow.add_node(\"generate_number\", generate_number)  # generation a number\n",
        "  workflow.add_node(\"check_number\", check_number)  # check number\n",
        "  # add edge\n",
        "  workflow.set_entry_point(\"generate_number\")\n",
        "  workflow.add_edge(\"generate_number\", \"check_number\")\n",
        "  workflow.add_conditional_edges(\n",
        "      \"check_number\",\n",
        "      decide_to_finish,\n",
        "      {\n",
        "          \"end\": END,\n",
        "          \"generate\": \"generate_number\",\n",
        "      },)\n",
        "\n",
        "if my_configuration == \"char\": # gusse the number\n",
        "  # add nodes\n",
        "  workflow.add_node(\"generate_char\", generate_char)  # generation a char\n",
        "  workflow.add_node(\"check_char\", check_char)  # check char\n",
        "  # add edge\n",
        "  workflow.set_entry_point(\"generate_char\")\n",
        "  workflow.add_edge(\"generate_char\", \"check_char\")\n",
        "  workflow.add_conditional_edges(\n",
        "      \"check_char\",\n",
        "      decide_to_finish,\n",
        "      {\n",
        "          \"end\": END,\n",
        "          \"generate\": \"generate_char\",\n",
        "      },)\n",
        "\n",
        "\n",
        "# Compile\n",
        "app = workflow.compile()"
      ],
      "metadata": {
        "id": "I5eFQy_goZcn"
      },
      "execution_count": null,
      "outputs": []
    },
    {
      "cell_type": "code",
      "source": [
        "config = {\"recursion_limit\": 200}\n",
        "final_state = app.invoke({\"keys\":{\"iterations\":0}},config=config)"
      ],
      "metadata": {
        "colab": {
          "base_uri": "https://localhost:8080/"
        },
        "id": "5iMKHRKBoZgj",
        "outputId": "2acc8722-d7b5-4633-f871-ebe3df4a8004"
      },
      "execution_count": null,
      "outputs": [
        {
          "output_type": "stream",
          "name": "stdout",
          "text": [
            "{'keys': {'generation': 10, 'error': 'FAIL', 'iterations': 1}}\n",
            "{'keys': {'generation': 2, 'error': 'FAIL', 'iterations': 2}}\n",
            "{'keys': {'generation': 3, 'error': 'FAIL', 'iterations': 3}}\n",
            "{'keys': {'generation': 4, 'error': 'FAIL', 'iterations': 4}}\n",
            "{'keys': {'generation': 10, 'error': 'FAIL', 'iterations': 5}}\n",
            "{'keys': {'generation': 9, 'error': 'FAIL', 'iterations': 6}}\n",
            "{'keys': {'generation': 10, 'error': 'FAIL', 'iterations': 7}}\n",
            "{'keys': {'generation': 4, 'error': 'FAIL', 'iterations': 8}}\n",
            "{'keys': {'generation': 5, 'error': 'FAIL', 'iterations': 9}}\n",
            "{'keys': {'generation': 4, 'error': 'FAIL', 'iterations': 10}}\n",
            "{'keys': {'generation': 8, 'error': 'FAIL', 'iterations': 11}}\n",
            "{'keys': {'generation': 1, 'error': 'FAIL', 'iterations': 12}}\n",
            "{'keys': {'generation': 6, 'error': 'FAIL', 'iterations': 13}}\n",
            "{'keys': {'generation': 3, 'error': 'FAIL', 'iterations': 14}}\n",
            "{'keys': {'generation': 9, 'error': 'FAIL', 'iterations': 15}}\n",
            "{'keys': {'generation': 5, 'error': 'FAIL', 'iterations': 16}}\n",
            "{'keys': {'generation': 5, 'error': 'FAIL', 'iterations': 17}}\n",
            "{'keys': {'generation': 2, 'error': 'FAIL', 'iterations': 18}}\n",
            "{'keys': {'generation': 8, 'error': 'FAIL', 'iterations': 19}}\n",
            "{'keys': {'generation': 7, 'error': 'None', 'iterations': 20}}\n"
          ]
        }
      ]
    },
    {
      "cell_type": "markdown",
      "source": [
        "## More Complex Graph\n",
        "\n",
        "Try to guess a number, if succeed, try to guess a char, if fail in number or chat, try again.  \n",
        "\n",
        "\n",
        "\n",
        "\n"
      ],
      "metadata": {
        "id": "-QA0AMj_tSIQ"
      }
    },
    {
      "cell_type": "code",
      "source": [
        "workflow = StateGraph(GraphState)\n",
        "\n",
        "\n",
        "# add nodes\n",
        "workflow.add_node(\"generate_number\", generate_number)  # generation a number\n",
        "workflow.add_node(\"check_number\", check_number)  # check number\n",
        "workflow.add_node(\"generate_char\", generate_char)  # generation a char\n",
        "workflow.add_node(\"check_char\", check_char)  # check char\n",
        "\n",
        "workflow.set_entry_point(\"generate_number\")\n",
        "workflow.add_edge(\"generate_number\", \"check_number\")\n",
        "workflow.add_edge(\"generate_char\", \"check_char\")\n",
        "\n",
        "workflow.add_conditional_edges(\n",
        "    \"check_number\",\n",
        "    decide_to_finish,\n",
        "    {\n",
        "        \"end\": \"generate_char\",\n",
        "        \"generate\": \"generate_number\",\n",
        "    },)\n",
        "\n",
        "workflow.add_conditional_edges(\n",
        "      \"check_char\",\n",
        "      decide_to_finish,\n",
        "      {\n",
        "          \"end\": END,\n",
        "          \"generate\": \"generate_char\",\n",
        "      },)\n",
        "\n",
        "\n",
        "# Compile\n",
        "app = workflow.compile()"
      ],
      "metadata": {
        "id": "OPNo0ujNtRHM"
      },
      "execution_count": null,
      "outputs": []
    },
    {
      "cell_type": "code",
      "source": [
        "config = {\"recursion_limit\": 200}\n",
        "app.invoke({\"keys\":{\"iterations\":0}},config=config)"
      ],
      "metadata": {
        "colab": {
          "base_uri": "https://localhost:8080/"
        },
        "id": "PKhbbJGDtRKJ",
        "outputId": "0dd99967-aa61-4289-f25b-832becb17419"
      },
      "execution_count": null,
      "outputs": [
        {
          "output_type": "stream",
          "name": "stdout",
          "text": [
            "{'keys': {'generation': 3, 'error': 'FAIL', 'iterations': 1}}\n",
            "{'keys': {'generation': 5, 'error': 'FAIL', 'iterations': 2}}\n",
            "{'keys': {'generation': 7, 'error': 'None', 'iterations': 3}}\n",
            "{'keys': {'generation': 'h', 'error': 'None', 'iterations': 4}}\n"
          ]
        },
        {
          "output_type": "execute_result",
          "data": {
            "text/plain": [
              "{'keys': {'generation': 'h', 'error': 'None', 'iterations': 4}}"
            ]
          },
          "metadata": {},
          "execution_count": 67
        }
      ]
    }
  ]
}